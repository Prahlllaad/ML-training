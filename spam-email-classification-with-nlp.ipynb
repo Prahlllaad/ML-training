{
 "cells": [
  {
   "cell_type": "code",
   "execution_count": 1,
   "id": "42af304a",
   "metadata": {
    "_cell_guid": "b1076dfc-b9ad-4769-8c92-a6c4dae69d19",
    "_uuid": "8f2839f25d086af736a60e9eeb907d3b93b6e0e5",
    "execution": {
     "iopub.execute_input": "2022-07-01T06:27:46.549091Z",
     "iopub.status.busy": "2022-07-01T06:27:46.548613Z",
     "iopub.status.idle": "2022-07-01T06:27:46.560568Z",
     "shell.execute_reply": "2022-07-01T06:27:46.559623Z"
    },
    "papermill": {
     "duration": 0.022444,
     "end_time": "2022-07-01T06:27:46.562970",
     "exception": false,
     "start_time": "2022-07-01T06:27:46.540526",
     "status": "completed"
    },
    "tags": []
   },
   "outputs": [],
   "source": [
    "import numpy as np \n",
    "import pandas as pd"
   ]
  },
  {
   "cell_type": "code",
   "execution_count": 2,
   "id": "1bfc592c",
   "metadata": {
    "execution": {
     "iopub.execute_input": "2022-07-01T06:27:46.576072Z",
     "iopub.status.busy": "2022-07-01T06:27:46.575470Z",
     "iopub.status.idle": "2022-07-01T06:27:46.641874Z",
     "shell.execute_reply": "2022-07-01T06:27:46.640734Z"
    },
    "papermill": {
     "duration": 0.076366,
     "end_time": "2022-07-01T06:27:46.644846",
     "exception": false,
     "start_time": "2022-07-01T06:27:46.568480",
     "status": "completed"
    },
    "tags": []
   },
   "outputs": [
    {
     "data": {
      "text/html": [
       "<div>\n",
       "<style scoped>\n",
       "    .dataframe tbody tr th:only-of-type {\n",
       "        vertical-align: middle;\n",
       "    }\n",
       "\n",
       "    .dataframe tbody tr th {\n",
       "        vertical-align: top;\n",
       "    }\n",
       "\n",
       "    .dataframe thead th {\n",
       "        text-align: right;\n",
       "    }\n",
       "</style>\n",
       "<table border=\"1\" class=\"dataframe\">\n",
       "  <thead>\n",
       "    <tr style=\"text-align: right;\">\n",
       "      <th></th>\n",
       "      <th>Category</th>\n",
       "      <th>Message</th>\n",
       "    </tr>\n",
       "  </thead>\n",
       "  <tbody>\n",
       "    <tr>\n",
       "      <th>0</th>\n",
       "      <td>ham</td>\n",
       "      <td>Go until jurong point, crazy.. Available only ...</td>\n",
       "    </tr>\n",
       "    <tr>\n",
       "      <th>1</th>\n",
       "      <td>ham</td>\n",
       "      <td>Ok lar... Joking wif u oni...</td>\n",
       "    </tr>\n",
       "    <tr>\n",
       "      <th>2</th>\n",
       "      <td>spam</td>\n",
       "      <td>Free entry in 2 a wkly comp to win FA Cup fina...</td>\n",
       "    </tr>\n",
       "    <tr>\n",
       "      <th>3</th>\n",
       "      <td>ham</td>\n",
       "      <td>U dun say so early hor... U c already then say...</td>\n",
       "    </tr>\n",
       "    <tr>\n",
       "      <th>4</th>\n",
       "      <td>ham</td>\n",
       "      <td>Nah I don't think he goes to usf, he lives aro...</td>\n",
       "    </tr>\n",
       "  </tbody>\n",
       "</table>\n",
       "</div>"
      ],
      "text/plain": [
       "  Category                                            Message\n",
       "0      ham  Go until jurong point, crazy.. Available only ...\n",
       "1      ham                      Ok lar... Joking wif u oni...\n",
       "2     spam  Free entry in 2 a wkly comp to win FA Cup fina...\n",
       "3      ham  U dun say so early hor... U c already then say...\n",
       "4      ham  Nah I don't think he goes to usf, he lives aro..."
      ]
     },
     "execution_count": 2,
     "metadata": {},
     "output_type": "execute_result"
    }
   ],
   "source": [
    "data=pd.read_csv(\"../input/spam-text-message-classification/SPAM text message 20170820 - Data.csv\")\n",
    "data.head()"
   ]
  },
  {
   "cell_type": "code",
   "execution_count": 3,
   "id": "6c9a7c92",
   "metadata": {
    "execution": {
     "iopub.execute_input": "2022-07-01T06:27:46.659180Z",
     "iopub.status.busy": "2022-07-01T06:27:46.658408Z",
     "iopub.status.idle": "2022-07-01T06:27:46.664627Z",
     "shell.execute_reply": "2022-07-01T06:27:46.663553Z"
    },
    "papermill": {
     "duration": 0.01589,
     "end_time": "2022-07-01T06:27:46.666837",
     "exception": false,
     "start_time": "2022-07-01T06:27:46.650947",
     "status": "completed"
    },
    "tags": []
   },
   "outputs": [
    {
     "data": {
      "text/plain": [
       "(5572, 2)"
      ]
     },
     "execution_count": 3,
     "metadata": {},
     "output_type": "execute_result"
    }
   ],
   "source": [
    "data.shape"
   ]
  },
  {
   "cell_type": "code",
   "execution_count": 4,
   "id": "66b0af93",
   "metadata": {
    "execution": {
     "iopub.execute_input": "2022-07-01T06:27:46.680323Z",
     "iopub.status.busy": "2022-07-01T06:27:46.679570Z",
     "iopub.status.idle": "2022-07-01T06:27:46.693629Z",
     "shell.execute_reply": "2022-07-01T06:27:46.692168Z"
    },
    "papermill": {
     "duration": 0.025243,
     "end_time": "2022-07-01T06:27:46.697684",
     "exception": false,
     "start_time": "2022-07-01T06:27:46.672441",
     "status": "completed"
    },
    "tags": []
   },
   "outputs": [
    {
     "name": "stdout",
     "output_type": "stream",
     "text": [
      "ham     4825\n",
      "spam     747\n",
      "Name: Category, dtype: int64\n"
     ]
    }
   ],
   "source": [
    "print(data[\"Category\"].value_counts())"
   ]
  },
  {
   "cell_type": "code",
   "execution_count": 5,
   "id": "44937637",
   "metadata": {
    "execution": {
     "iopub.execute_input": "2022-07-01T06:27:46.711996Z",
     "iopub.status.busy": "2022-07-01T06:27:46.710921Z",
     "iopub.status.idle": "2022-07-01T06:27:47.926965Z",
     "shell.execute_reply": "2022-07-01T06:27:47.925721Z"
    },
    "papermill": {
     "duration": 1.225697,
     "end_time": "2022-07-01T06:27:47.929631",
     "exception": false,
     "start_time": "2022-07-01T06:27:46.703934",
     "status": "completed"
    },
    "tags": []
   },
   "outputs": [
    {
     "data": {
      "text/html": [
       "<div>\n",
       "<style scoped>\n",
       "    .dataframe tbody tr th:only-of-type {\n",
       "        vertical-align: middle;\n",
       "    }\n",
       "\n",
       "    .dataframe tbody tr th {\n",
       "        vertical-align: top;\n",
       "    }\n",
       "\n",
       "    .dataframe thead th {\n",
       "        text-align: right;\n",
       "    }\n",
       "</style>\n",
       "<table border=\"1\" class=\"dataframe\">\n",
       "  <thead>\n",
       "    <tr style=\"text-align: right;\">\n",
       "      <th></th>\n",
       "      <th>Category</th>\n",
       "      <th>Message</th>\n",
       "      <th>Category_encoding</th>\n",
       "    </tr>\n",
       "  </thead>\n",
       "  <tbody>\n",
       "    <tr>\n",
       "      <th>0</th>\n",
       "      <td>ham</td>\n",
       "      <td>Go until jurong point, crazy.. Available only ...</td>\n",
       "      <td>0</td>\n",
       "    </tr>\n",
       "    <tr>\n",
       "      <th>1</th>\n",
       "      <td>ham</td>\n",
       "      <td>Ok lar... Joking wif u oni...</td>\n",
       "      <td>0</td>\n",
       "    </tr>\n",
       "    <tr>\n",
       "      <th>2</th>\n",
       "      <td>spam</td>\n",
       "      <td>Free entry in 2 a wkly comp to win FA Cup fina...</td>\n",
       "      <td>1</td>\n",
       "    </tr>\n",
       "    <tr>\n",
       "      <th>3</th>\n",
       "      <td>ham</td>\n",
       "      <td>U dun say so early hor... U c already then say...</td>\n",
       "      <td>0</td>\n",
       "    </tr>\n",
       "    <tr>\n",
       "      <th>4</th>\n",
       "      <td>ham</td>\n",
       "      <td>Nah I don't think he goes to usf, he lives aro...</td>\n",
       "      <td>0</td>\n",
       "    </tr>\n",
       "  </tbody>\n",
       "</table>\n",
       "</div>"
      ],
      "text/plain": [
       "  Category                                            Message  \\\n",
       "0      ham  Go until jurong point, crazy.. Available only ...   \n",
       "1      ham                      Ok lar... Joking wif u oni...   \n",
       "2     spam  Free entry in 2 a wkly comp to win FA Cup fina...   \n",
       "3      ham  U dun say so early hor... U c already then say...   \n",
       "4      ham  Nah I don't think he goes to usf, he lives aro...   \n",
       "\n",
       "   Category_encoding  \n",
       "0                  0  \n",
       "1                  0  \n",
       "2                  1  \n",
       "3                  0  \n",
       "4                  0  "
      ]
     },
     "execution_count": 5,
     "metadata": {},
     "output_type": "execute_result"
    }
   ],
   "source": [
    "from sklearn.preprocessing import LabelEncoder\n",
    "labelencoder=LabelEncoder()\n",
    "data[\"Category_encoding\"]=labelencoder.fit_transform(data[\"Category\"])\n",
    "data.head()"
   ]
  },
  {
   "cell_type": "code",
   "execution_count": 6,
   "id": "1358485a",
   "metadata": {
    "execution": {
     "iopub.execute_input": "2022-07-01T06:27:47.943648Z",
     "iopub.status.busy": "2022-07-01T06:27:47.942587Z",
     "iopub.status.idle": "2022-07-01T06:27:48.651367Z",
     "shell.execute_reply": "2022-07-01T06:27:48.650184Z"
    },
    "papermill": {
     "duration": 0.719027,
     "end_time": "2022-07-01T06:27:48.654520",
     "exception": false,
     "start_time": "2022-07-01T06:27:47.935493",
     "status": "completed"
    },
    "tags": []
   },
   "outputs": [],
   "source": [
    "import nltk\n",
    "from nltk.tokenize import word_tokenize\n",
    "from nltk.corpus import stopwords\n",
    "from nltk.stem import WordNetLemmatizer\n",
    "from wordcloud import WordCloud"
   ]
  },
  {
   "cell_type": "code",
   "execution_count": 7,
   "id": "149e344a",
   "metadata": {
    "execution": {
     "iopub.execute_input": "2022-07-01T06:27:48.668755Z",
     "iopub.status.busy": "2022-07-01T06:27:48.667940Z",
     "iopub.status.idle": "2022-07-01T06:27:50.508298Z",
     "shell.execute_reply": "2022-07-01T06:27:50.506529Z"
    },
    "papermill": {
     "duration": 1.850285,
     "end_time": "2022-07-01T06:27:50.510964",
     "exception": false,
     "start_time": "2022-07-01T06:27:48.660679",
     "status": "completed"
    },
    "tags": []
   },
   "outputs": [
    {
     "name": "stdout",
     "output_type": "stream",
     "text": [
      "0       [go, until, jurong, point, ,, crazy.., availab...\n",
      "1                [ok, lar, ..., joking, wif, u, oni, ...]\n",
      "2       [free, entry, in, 2, a, wkly, comp, to, win, f...\n",
      "3       [u, dun, say, so, early, hor, ..., u, c, alrea...\n",
      "4       [nah, i, do, n't, think, he, goes, to, usf, ,,...\n",
      "                              ...                        \n",
      "5567    [this, is, the, 2nd, time, we, have, tried, 2,...\n",
      "5568      [will, ü, b, going, to, esplanade, fr, home, ?]\n",
      "5569    [pity, ,, *, was, in, mood, for, that, ., so, ...\n",
      "5570    [the, guy, did, some, bitching, but, i, acted,...\n",
      "5571                  [rofl, ., its, true, to, its, name]\n",
      "Name: Message, Length: 5572, dtype: object\n"
     ]
    }
   ],
   "source": [
    "#apply message lower case\n",
    "messages=data[\"Message\"].str.lower().apply(word_tokenize)\n",
    "print(messages)"
   ]
  },
  {
   "cell_type": "code",
   "execution_count": 8,
   "id": "05f37564",
   "metadata": {
    "execution": {
     "iopub.execute_input": "2022-07-01T06:27:50.524941Z",
     "iopub.status.busy": "2022-07-01T06:27:50.524397Z",
     "iopub.status.idle": "2022-07-01T06:28:03.847075Z",
     "shell.execute_reply": "2022-07-01T06:28:03.845875Z"
    },
    "papermill": {
     "duration": 13.333398,
     "end_time": "2022-07-01T06:28:03.850323",
     "exception": false,
     "start_time": "2022-07-01T06:27:50.516925",
     "status": "completed"
    },
    "tags": []
   },
   "outputs": [],
   "source": [
    "#messages remove stopwords\n",
    "def remove_stop_words(messages):\n",
    "    no_stop = []\n",
    "    for message in messages:\n",
    "        if message not in stopwords.words('english'):\n",
    "            no_stop.append(message)\n",
    "    return no_stop\n",
    "messages=messages.apply(remove_stop_words)"
   ]
  },
  {
   "cell_type": "code",
   "execution_count": 9,
   "id": "00b3ddd5",
   "metadata": {
    "execution": {
     "iopub.execute_input": "2022-07-01T06:28:03.865176Z",
     "iopub.status.busy": "2022-07-01T06:28:03.864498Z",
     "iopub.status.idle": "2022-07-01T06:28:03.875230Z",
     "shell.execute_reply": "2022-07-01T06:28:03.873510Z"
    },
    "papermill": {
     "duration": 0.021573,
     "end_time": "2022-07-01T06:28:03.878199",
     "exception": false,
     "start_time": "2022-07-01T06:28:03.856626",
     "status": "completed"
    },
    "tags": []
   },
   "outputs": [
    {
     "name": "stdout",
     "output_type": "stream",
     "text": [
      "0       [go, jurong, point, ,, crazy.., available, bug...\n",
      "1                [ok, lar, ..., joking, wif, u, oni, ...]\n",
      "2       [free, entry, 2, wkly, comp, win, fa, cup, fin...\n",
      "3       [u, dun, say, early, hor, ..., u, c, already, ...\n",
      "4       [nah, n't, think, goes, usf, ,, lives, around,...\n",
      "                              ...                        \n",
      "5567    [2nd, time, tried, 2, contact, u., u, £750, po...\n",
      "5568                [ü, b, going, esplanade, fr, home, ?]\n",
      "5569           [pity, ,, *, mood, ., ..., suggestions, ?]\n",
      "5570    [guy, bitching, acted, like, 'd, interested, b...\n",
      "5571                                [rofl, ., true, name]\n",
      "Name: Message, Length: 5572, dtype: object\n"
     ]
    }
   ],
   "source": [
    "print(messages)"
   ]
  },
  {
   "cell_type": "code",
   "execution_count": 10,
   "id": "399c8554",
   "metadata": {
    "execution": {
     "iopub.execute_input": "2022-07-01T06:28:03.893118Z",
     "iopub.status.busy": "2022-07-01T06:28:03.892696Z",
     "iopub.status.idle": "2022-07-01T06:28:06.489692Z",
     "shell.execute_reply": "2022-07-01T06:28:06.488217Z"
    },
    "papermill": {
     "duration": 2.607666,
     "end_time": "2022-07-01T06:28:06.492675",
     "exception": false,
     "start_time": "2022-07-01T06:28:03.885009",
     "status": "completed"
    },
    "tags": []
   },
   "outputs": [
    {
     "name": "stdout",
     "output_type": "stream",
     "text": [
      "0       go jurong point , crazy.. available bugis n gr...\n",
      "1                         ok lar ... joking wif u oni ...\n",
      "2       free entry 2 wkly comp win fa cup final tkts 2...\n",
      "3             u dun say early hor ... u c already say ...\n",
      "4               nah n't think go usf , life around though\n",
      "                              ...                        \n",
      "5567    2nd time tried 2 contact u. u £750 pound prize...\n",
      "5568                        ü b going esplanade fr home ?\n",
      "5569                     pity , * mood . ... suggestion ?\n",
      "5570    guy bitching acted like 'd interested buying s...\n",
      "5571                                     rofl . true name\n",
      "Name: Message, Length: 5572, dtype: object\n"
     ]
    }
   ],
   "source": [
    "# Define a function to lemmatization\n",
    "def lemmatize(messages):\n",
    "    lemmatizer = WordNetLemmatizer()\n",
    "    # Create the lemmatized list\n",
    "    lemmatized = []\n",
    "    for message in messages:\n",
    "            # Lemmatize and append\n",
    "            lemmatized.append(lemmatizer.lemmatize(message))\n",
    "    return \" \".join(lemmatized)\n",
    "\n",
    "messages = messages.apply(lemmatize)\n",
    "print(messages)"
   ]
  },
  {
   "cell_type": "code",
   "execution_count": 11,
   "id": "b20dbac7",
   "metadata": {
    "execution": {
     "iopub.execute_input": "2022-07-01T06:28:06.507797Z",
     "iopub.status.busy": "2022-07-01T06:28:06.507410Z",
     "iopub.status.idle": "2022-07-01T06:28:06.524075Z",
     "shell.execute_reply": "2022-07-01T06:28:06.522839Z"
    },
    "papermill": {
     "duration": 0.027211,
     "end_time": "2022-07-01T06:28:06.526828",
     "exception": false,
     "start_time": "2022-07-01T06:28:06.499617",
     "status": "completed"
    },
    "tags": []
   },
   "outputs": [
    {
     "data": {
      "text/html": [
       "<div>\n",
       "<style scoped>\n",
       "    .dataframe tbody tr th:only-of-type {\n",
       "        vertical-align: middle;\n",
       "    }\n",
       "\n",
       "    .dataframe tbody tr th {\n",
       "        vertical-align: top;\n",
       "    }\n",
       "\n",
       "    .dataframe thead th {\n",
       "        text-align: right;\n",
       "    }\n",
       "</style>\n",
       "<table border=\"1\" class=\"dataframe\">\n",
       "  <thead>\n",
       "    <tr style=\"text-align: right;\">\n",
       "      <th></th>\n",
       "      <th>Category</th>\n",
       "      <th>Message</th>\n",
       "      <th>Category_encoding</th>\n",
       "      <th>new_Message</th>\n",
       "    </tr>\n",
       "  </thead>\n",
       "  <tbody>\n",
       "    <tr>\n",
       "      <th>0</th>\n",
       "      <td>ham</td>\n",
       "      <td>Go until jurong point, crazy.. Available only ...</td>\n",
       "      <td>0</td>\n",
       "      <td>go jurong point , crazy.. available bugis n gr...</td>\n",
       "    </tr>\n",
       "    <tr>\n",
       "      <th>1</th>\n",
       "      <td>ham</td>\n",
       "      <td>Ok lar... Joking wif u oni...</td>\n",
       "      <td>0</td>\n",
       "      <td>ok lar ... joking wif u oni ...</td>\n",
       "    </tr>\n",
       "    <tr>\n",
       "      <th>2</th>\n",
       "      <td>spam</td>\n",
       "      <td>Free entry in 2 a wkly comp to win FA Cup fina...</td>\n",
       "      <td>1</td>\n",
       "      <td>free entry 2 wkly comp win fa cup final tkts 2...</td>\n",
       "    </tr>\n",
       "    <tr>\n",
       "      <th>3</th>\n",
       "      <td>ham</td>\n",
       "      <td>U dun say so early hor... U c already then say...</td>\n",
       "      <td>0</td>\n",
       "      <td>u dun say early hor ... u c already say ...</td>\n",
       "    </tr>\n",
       "    <tr>\n",
       "      <th>4</th>\n",
       "      <td>ham</td>\n",
       "      <td>Nah I don't think he goes to usf, he lives aro...</td>\n",
       "      <td>0</td>\n",
       "      <td>nah n't think go usf , life around though</td>\n",
       "    </tr>\n",
       "    <tr>\n",
       "      <th>...</th>\n",
       "      <td>...</td>\n",
       "      <td>...</td>\n",
       "      <td>...</td>\n",
       "      <td>...</td>\n",
       "    </tr>\n",
       "    <tr>\n",
       "      <th>5567</th>\n",
       "      <td>spam</td>\n",
       "      <td>This is the 2nd time we have tried 2 contact u...</td>\n",
       "      <td>1</td>\n",
       "      <td>2nd time tried 2 contact u. u £750 pound prize...</td>\n",
       "    </tr>\n",
       "    <tr>\n",
       "      <th>5568</th>\n",
       "      <td>ham</td>\n",
       "      <td>Will ü b going to esplanade fr home?</td>\n",
       "      <td>0</td>\n",
       "      <td>ü b going esplanade fr home ?</td>\n",
       "    </tr>\n",
       "    <tr>\n",
       "      <th>5569</th>\n",
       "      <td>ham</td>\n",
       "      <td>Pity, * was in mood for that. So...any other s...</td>\n",
       "      <td>0</td>\n",
       "      <td>pity , * mood . ... suggestion ?</td>\n",
       "    </tr>\n",
       "    <tr>\n",
       "      <th>5570</th>\n",
       "      <td>ham</td>\n",
       "      <td>The guy did some bitching but I acted like i'd...</td>\n",
       "      <td>0</td>\n",
       "      <td>guy bitching acted like 'd interested buying s...</td>\n",
       "    </tr>\n",
       "    <tr>\n",
       "      <th>5571</th>\n",
       "      <td>ham</td>\n",
       "      <td>Rofl. Its true to its name</td>\n",
       "      <td>0</td>\n",
       "      <td>rofl . true name</td>\n",
       "    </tr>\n",
       "  </tbody>\n",
       "</table>\n",
       "<p>5572 rows × 4 columns</p>\n",
       "</div>"
      ],
      "text/plain": [
       "     Category                                            Message  \\\n",
       "0         ham  Go until jurong point, crazy.. Available only ...   \n",
       "1         ham                      Ok lar... Joking wif u oni...   \n",
       "2        spam  Free entry in 2 a wkly comp to win FA Cup fina...   \n",
       "3         ham  U dun say so early hor... U c already then say...   \n",
       "4         ham  Nah I don't think he goes to usf, he lives aro...   \n",
       "...       ...                                                ...   \n",
       "5567     spam  This is the 2nd time we have tried 2 contact u...   \n",
       "5568      ham               Will ü b going to esplanade fr home?   \n",
       "5569      ham  Pity, * was in mood for that. So...any other s...   \n",
       "5570      ham  The guy did some bitching but I acted like i'd...   \n",
       "5571      ham                         Rofl. Its true to its name   \n",
       "\n",
       "      Category_encoding                                        new_Message  \n",
       "0                     0  go jurong point , crazy.. available bugis n gr...  \n",
       "1                     0                    ok lar ... joking wif u oni ...  \n",
       "2                     1  free entry 2 wkly comp win fa cup final tkts 2...  \n",
       "3                     0        u dun say early hor ... u c already say ...  \n",
       "4                     0          nah n't think go usf , life around though  \n",
       "...                 ...                                                ...  \n",
       "5567                  1  2nd time tried 2 contact u. u £750 pound prize...  \n",
       "5568                  0                      ü b going esplanade fr home ?  \n",
       "5569                  0                   pity , * mood . ... suggestion ?  \n",
       "5570                  0  guy bitching acted like 'd interested buying s...  \n",
       "5571                  0                                   rofl . true name  \n",
       "\n",
       "[5572 rows x 4 columns]"
      ]
     },
     "metadata": {},
     "output_type": "display_data"
    }
   ],
   "source": [
    "data[\"new_Message\"]=messages\n",
    "display(data)"
   ]
  },
  {
   "cell_type": "code",
   "execution_count": 12,
   "id": "0373fca3",
   "metadata": {
    "execution": {
     "iopub.execute_input": "2022-07-01T06:28:06.545421Z",
     "iopub.status.busy": "2022-07-01T06:28:06.544536Z",
     "iopub.status.idle": "2022-07-01T06:28:06.554331Z",
     "shell.execute_reply": "2022-07-01T06:28:06.553210Z"
    },
    "papermill": {
     "duration": 0.022204,
     "end_time": "2022-07-01T06:28:06.557010",
     "exception": false,
     "start_time": "2022-07-01T06:28:06.534806",
     "status": "completed"
    },
    "tags": []
   },
   "outputs": [],
   "source": [
    "#train-test-split\n",
    "from sklearn.model_selection import train_test_split\n",
    "X=data[\"new_Message\"]\n",
    "Y=data[\"Category_encoding\"]\n",
    "x_train,x_test,y_train,y_test=train_test_split(X,Y,test_size=0.2,random_state=42)"
   ]
  },
  {
   "cell_type": "code",
   "execution_count": 13,
   "id": "bebef908",
   "metadata": {
    "execution": {
     "iopub.execute_input": "2022-07-01T06:28:06.573944Z",
     "iopub.status.busy": "2022-07-01T06:28:06.572689Z",
     "iopub.status.idle": "2022-07-01T06:28:06.708494Z",
     "shell.execute_reply": "2022-07-01T06:28:06.707230Z"
    },
    "papermill": {
     "duration": 0.147226,
     "end_time": "2022-07-01T06:28:06.711672",
     "exception": false,
     "start_time": "2022-07-01T06:28:06.564446",
     "status": "completed"
    },
    "tags": []
   },
   "outputs": [],
   "source": [
    "#TF-IDF Vectorizer\n",
    "from sklearn.feature_extraction.text import TfidfVectorizer\n",
    "vectorizer = TfidfVectorizer(strip_accents='ascii')\n",
    "tfidf_train = vectorizer.fit_transform(x_train)\n",
    "tfidf_test = vectorizer.transform(x_test)"
   ]
  },
  {
   "cell_type": "code",
   "execution_count": 14,
   "id": "eb7882a0",
   "metadata": {
    "execution": {
     "iopub.execute_input": "2022-07-01T06:28:06.727370Z",
     "iopub.status.busy": "2022-07-01T06:28:06.726972Z",
     "iopub.status.idle": "2022-07-01T06:28:06.735183Z",
     "shell.execute_reply": "2022-07-01T06:28:06.734003Z"
    },
    "papermill": {
     "duration": 0.019167,
     "end_time": "2022-07-01T06:28:06.737917",
     "exception": false,
     "start_time": "2022-07-01T06:28:06.718750",
     "status": "completed"
    },
    "tags": []
   },
   "outputs": [],
   "source": [
    "from sklearn.naive_bayes import MultinomialNB\n",
    "from sklearn.metrics import accuracy_score\n",
    "from sklearn.metrics import confusion_matrix\n",
    "from sklearn.metrics import classification_report"
   ]
  },
  {
   "cell_type": "code",
   "execution_count": 15,
   "id": "6407aaa5",
   "metadata": {
    "execution": {
     "iopub.execute_input": "2022-07-01T06:28:06.754218Z",
     "iopub.status.busy": "2022-07-01T06:28:06.752937Z",
     "iopub.status.idle": "2022-07-01T06:28:06.771723Z",
     "shell.execute_reply": "2022-07-01T06:28:06.770201Z"
    },
    "papermill": {
     "duration": 0.030262,
     "end_time": "2022-07-01T06:28:06.775344",
     "exception": false,
     "start_time": "2022-07-01T06:28:06.745082",
     "status": "completed"
    },
    "tags": []
   },
   "outputs": [
    {
     "name": "stdout",
     "output_type": "stream",
     "text": [
      "Accuracy: 0.9713004484304932\n",
      "\n",
      "\n",
      "              precision    recall  f1-score   support\n",
      "\n",
      "           0       0.97      1.00      0.98       966\n",
      "           1       1.00      0.79      0.88       149\n",
      "\n",
      "    accuracy                           0.97      1115\n",
      "   macro avg       0.98      0.89      0.93      1115\n",
      "weighted avg       0.97      0.97      0.97      1115\n",
      "\n",
      "\n",
      "\n",
      "[[966   0]\n",
      " [ 32 117]]\n"
     ]
    }
   ],
   "source": [
    "mNB=MultinomialNB()\n",
    "mNB.fit(tfidf_train,y_train)\n",
    "Y_pred = mNB.predict(tfidf_test)\n",
    "print(\"Accuracy: \"+str(accuracy_score(y_test, Y_pred)))\n",
    "print('\\n')\n",
    "print(classification_report(y_test, Y_pred))\n",
    "print('\\n')\n",
    "print(confusion_matrix(y_test, Y_pred))"
   ]
  },
  {
   "cell_type": "code",
   "execution_count": 16,
   "id": "6d09af98",
   "metadata": {
    "execution": {
     "iopub.execute_input": "2022-07-01T06:28:06.790770Z",
     "iopub.status.busy": "2022-07-01T06:28:06.790028Z",
     "iopub.status.idle": "2022-07-01T06:28:08.488844Z",
     "shell.execute_reply": "2022-07-01T06:28:08.487638Z"
    },
    "papermill": {
     "duration": 1.709728,
     "end_time": "2022-07-01T06:28:08.491913",
     "exception": false,
     "start_time": "2022-07-01T06:28:06.782185",
     "status": "completed"
    },
    "tags": []
   },
   "outputs": [
    {
     "name": "stdout",
     "output_type": "stream",
     "text": [
      "Accuracy: 0.9838565022421525\n",
      "\n",
      "\n",
      "              precision    recall  f1-score   support\n",
      "\n",
      "           0       0.98      1.00      0.99       966\n",
      "           1       1.00      0.88      0.94       149\n",
      "\n",
      "    accuracy                           0.98      1115\n",
      "   macro avg       0.99      0.94      0.96      1115\n",
      "weighted avg       0.98      0.98      0.98      1115\n",
      "\n",
      "\n",
      "\n",
      "[[966   0]\n",
      " [ 18 131]]\n"
     ]
    }
   ],
   "source": [
    "from sklearn import svm\n",
    "clf = svm.SVC()\n",
    "clf.fit(tfidf_train,y_train)\n",
    "Y_pred = clf.predict(tfidf_test)\n",
    "print(\"Accuracy: \"+str(accuracy_score(y_test, Y_pred)))\n",
    "print('\\n')\n",
    "print(classification_report(y_test, Y_pred))\n",
    "print('\\n')\n",
    "print(confusion_matrix(y_test, Y_pred))"
   ]
  }
 ],
 "metadata": {
  "kernelspec": {
   "display_name": "Python 3",
   "language": "python",
   "name": "python3"
  },
  "language_info": {
   "codemirror_mode": {
    "name": "ipython",
    "version": 3
   },
   "file_extension": ".py",
   "mimetype": "text/x-python",
   "name": "python",
   "nbconvert_exporter": "python",
   "pygments_lexer": "ipython3",
   "version": "3.7.12"
  },
  "papermill": {
   "default_parameters": {},
   "duration": 33.793385,
   "end_time": "2022-07-01T06:28:09.523470",
   "environment_variables": {},
   "exception": null,
   "input_path": "__notebook__.ipynb",
   "output_path": "__notebook__.ipynb",
   "parameters": {},
   "start_time": "2022-07-01T06:27:35.730085",
   "version": "2.3.4"
  }
 },
 "nbformat": 4,
 "nbformat_minor": 5
}
